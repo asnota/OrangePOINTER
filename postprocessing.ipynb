{
  "nbformat": 4,
  "nbformat_minor": 0,
  "metadata": {
    "colab": {
      "name": "postprocessing.ipynb",
      "provenance": [],
      "collapsed_sections": []
    },
    "kernelspec": {
      "name": "python3",
      "display_name": "Python 3"
    },
    "language_info": {
      "name": "python"
    }
  },
  "cells": [
    {
      "cell_type": "code",
      "metadata": {
        "id": "FQl_0cCYgl6E"
      },
      "source": [
        "data_file = \"sample_data/test_set.txt\"\n",
        "\n",
        "with open(data_file, 'r') as f:\n",
        "  for i, line in enumerate(f):\n",
        "    line = line.strip()\n",
        "    example = line.split()\n",
        "    new_example = []\n",
        "    for word in example:\n",
        "      if word.startswith(\"[unused\") or word.startswith(\"[UNK]\") or word.startswith(\".\") or word.startswith(\"\\\\\") or word.startswith(\"##\"):\n",
        "        del word\n",
        "      else:\n",
        "        new_example.append(word)\n",
        "\n",
        "    complete_sentence = \" \".join(new_example) + \".\"\n",
        "    print(complete_sentence)\n",
        "  "
      ],
      "execution_count": null,
      "outputs": []
    }
  ]
}