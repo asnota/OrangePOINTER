{
  "nbformat": 4,
  "nbformat_minor": 0,
  "metadata": {
    "colab": {
      "name": "POINTER join training data.ipynb",
      "provenance": [],
      "collapsed_sections": []
    },
    "kernelspec": {
      "name": "python3",
      "display_name": "Python 3"
    },
    "language_info": {
      "name": "python"
    }
  },
  "cells": [
    {
      "cell_type": "markdown",
      "metadata": {
        "id": "KifuRT7ckHd3"
      },
      "source": [
        "# Clear a directory"
      ]
    },
    {
      "cell_type": "code",
      "metadata": {
        "colab": {
          "base_uri": "https://localhost:8080/",
          "height": 36
        },
        "id": "6UmnR7WXjtFw",
        "outputId": "a791de95-7f1f-45ef-ee40-804157f7709b"
      },
      "source": [
        "'''\n",
        "import os\n",
        "\n",
        "dir = \"sample_data\"\n",
        "for f in os.listdir(dir):\n",
        "    os.remove(os.path.join(dir, f))\n",
        "'''"
      ],
      "execution_count": null,
      "outputs": [
        {
          "output_type": "execute_result",
          "data": {
            "application/vnd.google.colaboratory.intrinsic+json": {
              "type": "string"
            },
            "text/plain": [
              "'\\nimport os\\n\\ndir = \"sample_data\"\\nfor f in os.listdir(dir):\\n    os.remove(os.path.join(dir, f))\\n'"
            ]
          },
          "metadata": {
            "tags": []
          },
          "execution_count": 3
        }
      ]
    },
    {
      "cell_type": "markdown",
      "metadata": {
        "id": "Jib14AfEhB-f"
      },
      "source": [
        "# Create folders"
      ]
    },
    {
      "cell_type": "code",
      "metadata": {
        "id": "coEaGsrDhG2P"
      },
      "source": [
        "def create_path(subdir):\n",
        "  if not os.path.exists(subdir):\n",
        "    os.makedirs(subdir)\n",
        "\n",
        "create_path('data_training')\n",
        "create_path('data_metrics')"
      ],
      "execution_count": null,
      "outputs": []
    },
    {
      "cell_type": "markdown",
      "metadata": {
        "id": "Uz1BDTLBsWsJ"
      },
      "source": [
        "# Unzip files"
      ]
    },
    {
      "cell_type": "code",
      "metadata": {
        "id": "VBANaGIgprUq"
      },
      "source": [
        "import zipfile\n",
        "\n",
        "num_zips = 5\n",
        "\n",
        "for i in range(num_zips):\n",
        "  with zipfile.ZipFile(\"sample_data/training_data\" + \"_{}.zip\".format(i), 'r') as zip_ref:\n",
        "    zip_ref.extractall(\"sample_data/training\" + \"_{}\".format(i))"
      ],
      "execution_count": null,
      "outputs": []
    },
    {
      "cell_type": "code",
      "metadata": {
        "id": "haCBkcZTqaYv"
      },
      "source": [
        "for i in range(5):\n",
        "  with zipfile.ZipFile(\"sample_data/metrics_data\" + \"_{}.zip\".format(i), 'r') as zip_ref_m:\n",
        "    zip_ref_m.extractall(\"sample_data/metrics\" + \"_{}\".format(i))"
      ],
      "execution_count": null,
      "outputs": []
    },
    {
      "cell_type": "markdown",
      "metadata": {
        "id": "BcBKex-Fscqx"
      },
      "source": [
        "# Treat metrics data"
      ]
    },
    {
      "cell_type": "markdown",
      "metadata": {
        "id": "myouz8rK0x3j"
      },
      "source": [
        "## Read file content"
      ]
    },
    {
      "cell_type": "code",
      "metadata": {
        "colab": {
          "base_uri": "https://localhost:8080/"
        },
        "id": "F1BXvIpTsWAS",
        "outputId": "68f63995-c456-414b-82e8-5976704b5412"
      },
      "source": [
        "import json\n",
        "\n",
        "num_samples = 0\n",
        "seq_len = 0\n",
        "num_instances_1 = []\n",
        "num_instances_2 = []\n",
        "num_instances_3 = []\n",
        "\n",
        "for i in range(num_zips):\n",
        "  metrics_path = \"sample_data/metrics\" + \"_{}\".format(i) + \"/data_metrics/\"\n",
        "  for j in range(3):\n",
        "    metrics_file = metrics_path +  \"metrics_\" + \"epoch_{}.json\".format(j)\n",
        "    if j == 0:\n",
        "      with open(metrics_file) as json_file: \n",
        "        metrics = json.load(json_file)\n",
        "        num_samples = metrics['num_training_examples']\n",
        "        seq_len = metrics['max_seq_len']\n",
        "        num_instances_1.append(num_samples)\n",
        "        print(num_instances_1)\n",
        "    elif j == 1:\n",
        "      with open(metrics_file) as json_file: \n",
        "        metrics = json.load(json_file)\n",
        "        num_samples = metrics['num_training_examples']\n",
        "        seq_len = metrics['max_seq_len']\n",
        "        num_instances_2.append(num_samples)\n",
        "        print(num_instances_2)\n",
        "    elif j == 2:\n",
        "      with open(metrics_file) as json_file: \n",
        "        metrics = json.load(json_file)\n",
        "        num_samples = metrics['num_training_examples']\n",
        "        seq_len = metrics['max_seq_len']\n",
        "        num_instances_3.append(num_samples)\n",
        "        print(num_instances_3) "
      ],
      "execution_count": null,
      "outputs": [
        {
          "output_type": "stream",
          "text": [
            "[6783]\n",
            "[6844]\n",
            "[7230]\n",
            "[6783, 7535]\n",
            "[6844, 7680]\n",
            "[7230, 7810]\n",
            "[6783, 7535, 7781]\n",
            "[6844, 7680, 7824]\n",
            "[7230, 7810, 7950]\n",
            "[6783, 7535, 7781, 24455]\n",
            "[6844, 7680, 7824, 24049]\n",
            "[7230, 7810, 7950, 24460]\n",
            "[6783, 7535, 7781, 24455, 6510]\n",
            "[6844, 7680, 7824, 24049, 6559]\n",
            "[7230, 7810, 7950, 24460, 7210]\n"
          ],
          "name": "stdout"
        }
      ]
    },
    {
      "cell_type": "markdown",
      "metadata": {
        "id": "4vWG2-961AmB"
      },
      "source": [
        "## Convert to np and sum"
      ]
    },
    {
      "cell_type": "code",
      "metadata": {
        "colab": {
          "base_uri": "https://localhost:8080/"
        },
        "id": "MI9PnF8kyfdM",
        "outputId": "96008c65-a192-433b-93f0-452601b4b74d"
      },
      "source": [
        "import numpy as np\n",
        "\n",
        "np_array_1 = np.array(num_instances_1)\n",
        "instances_1 = np.sum(np_array_1, dtype=np.int32)\n",
        "\n",
        "np_array_2 = np.array(num_instances_2)\n",
        "instances_2 = np.sum(np_array_2, dtype=np.int32)\n",
        "\n",
        "np_array_3 = np.array(num_instances_3)\n",
        "instances_3 = np.sum(np_array_3, dtype=np.int32)\n",
        "\n",
        "print(instances_1, instances_2, instances_3)"
      ],
      "execution_count": null,
      "outputs": [
        {
          "output_type": "stream",
          "text": [
            "53064 52956 54660\n"
          ],
          "name": "stdout"
        }
      ]
    },
    {
      "cell_type": "code",
      "metadata": {
        "colab": {
          "base_uri": "https://localhost:8080/"
        },
        "id": "AAvItwHE4lCn",
        "outputId": "b15a5e29-1171-4adc-8234-fcf810a811be"
      },
      "source": [
        "instances = []\n",
        "instances.append(instances_1)\n",
        "instances.append(instances_2)\n",
        "instances.append(instances_3)\n",
        "\n",
        "for i in range(3):\n",
        "  print(instances[i])"
      ],
      "execution_count": null,
      "outputs": [
        {
          "output_type": "stream",
          "text": [
            "53064\n",
            "52956\n",
            "54660\n"
          ],
          "name": "stdout"
        }
      ]
    },
    {
      "cell_type": "markdown",
      "metadata": {
        "id": "CbHKCPU_1Z1J"
      },
      "source": [
        "## Write new metrics file "
      ]
    },
    {
      "cell_type": "code",
      "metadata": {
        "colab": {
          "base_uri": "https://localhost:8080/"
        },
        "id": "zDDvbINl1fu7",
        "outputId": "890fab9d-bcb7-48c2-f3e3-1ea3c44e7d2d"
      },
      "source": [
        "for i in range(3):\n",
        "  metrics_file = \"data_metrics/\" + \"metrics_\" + \"epoch_{}.json\".format(i)\n",
        "  f = open(metrics_file, \"x\")\n",
        "\n",
        "  with open(metrics_file, 'w') as metrics_file:\n",
        "    metrics = {\n",
        "                \"num_training_examples\": int(instances[i]),\n",
        "                \"max_seq_len\": seq_len\n",
        "              }\n",
        "    print(metrics)\n",
        "    metrics_file.write(json.dumps(metrics))"
      ],
      "execution_count": null,
      "outputs": [
        {
          "output_type": "stream",
          "text": [
            "{'num_training_examples': 53064, 'max_seq_len': 256}\n",
            "{'num_training_examples': 52956, 'max_seq_len': 256}\n",
            "{'num_training_examples': 54660, 'max_seq_len': 256}\n"
          ],
          "name": "stdout"
        }
      ]
    },
    {
      "cell_type": "markdown",
      "metadata": {
        "id": "LDwJ193z-hh8"
      },
      "source": [
        "# Treat text data"
      ]
    },
    {
      "cell_type": "markdown",
      "metadata": {
        "id": "MiSwGiucg4nL"
      },
      "source": [
        "## Read data"
      ]
    },
    {
      "cell_type": "code",
      "metadata": {
        "colab": {
          "base_uri": "https://localhost:8080/"
        },
        "id": "-3dnCUwtuCWq",
        "outputId": "e55a04ee-19c7-43c7-fbc3-dac5705e9abe"
      },
      "source": [
        "text_1 = []\n",
        "text_2 = []\n",
        "text_3 = []\n",
        "\n",
        "for i in range(num_zips):\n",
        "  data_path = \"sample_data/training\" + \"_{}\".format(i) + \"/data_training/\"\n",
        "  for j in range(3):\n",
        "    data_file = data_path +  \"file_epoch_{}.json\".format(j)\n",
        "    if j == 0:\n",
        "      with open(data_file) as json_file:\n",
        "        for i, line in enumerate(json_file):\n",
        "          line = line.strip()\n",
        "          example = json.loads(line)\n",
        "          text_1.append(example)\n",
        "    elif j == 1:\n",
        "      with open(data_file) as json_file: \n",
        "        for i, line in enumerate(json_file):\n",
        "          line = line.strip()\n",
        "          example = json.loads(line)\n",
        "          text_2.append(example)\n",
        "    elif j == 2:\n",
        "      with open(data_file) as json_file: \n",
        "        for i, line in enumerate(json_file):\n",
        "          line = line.strip()\n",
        "          example = json.loads(line)\n",
        "          text_3.append(example)\n",
        "\n",
        "print(len(text_1), len(text_2), len(text_3))"
      ],
      "execution_count": null,
      "outputs": [
        {
          "output_type": "stream",
          "text": [
            "53064 52956 54660\n"
          ],
          "name": "stdout"
        }
      ]
    },
    {
      "cell_type": "code",
      "metadata": {
        "colab": {
          "base_uri": "https://localhost:8080/"
        },
        "id": "4F3Y4C5Qvbzq",
        "outputId": "a1c95aaa-3296-47f4-a2bb-2426c6916955"
      },
      "source": [
        "array = np.array([53064, 52956, 54660])\n",
        "sum = np.sum(array)\n",
        "sum"
      ],
      "execution_count": null,
      "outputs": [
        {
          "output_type": "execute_result",
          "data": {
            "text/plain": [
              "160680"
            ]
          },
          "metadata": {
            "tags": []
          },
          "execution_count": 17
        }
      ]
    },
    {
      "cell_type": "markdown",
      "metadata": {
        "id": "STszEj2Qb6ye"
      },
      "source": [
        "## Write data"
      ]
    },
    {
      "cell_type": "code",
      "metadata": {
        "id": "_Im8FnbEb_BP"
      },
      "source": [
        "for i in range(3):\n",
        "  data_file = \"data_training/\" + \"file_\" + \"epoch_{}.json\".format(i)\n",
        "  f = open(data_file, \"x\")\n",
        "  \n",
        "  if i == 0:    \n",
        "    with open(data_file, 'w') as data_file:\n",
        "      doc_instances = [json.dumps(instance, ensure_ascii=False) for instance in text_1]      \n",
        "      for instance in doc_instances:\n",
        "        data_file.write(instance + '\\n')\n",
        "  elif i == 1:\n",
        "    with open(data_file, 'w') as data_file:\n",
        "      doc_instances = [json.dumps(instance, ensure_ascii=False) for instance in text_2]      \n",
        "      for instance in doc_instances:\n",
        "        data_file.write(instance + '\\n')\n",
        "  elif i == 2:\n",
        "    with open(data_file, 'w') as data_file:\n",
        "      doc_instances = [json.dumps(instance, ensure_ascii=False) for instance in text_3]      \n",
        "      for instance in doc_instances:\n",
        "        data_file.write(instance + '\\n')"
      ],
      "execution_count": null,
      "outputs": []
    },
    {
      "cell_type": "markdown",
      "metadata": {
        "id": "Zk6oyhURiPzu"
      },
      "source": [
        "# Make final zips"
      ]
    },
    {
      "cell_type": "code",
      "metadata": {
        "id": "Kqr2X-idiSzO"
      },
      "source": [
        "import zipfile\n",
        "\n",
        "def zipdir(path, ziph):\n",
        "    # ziph is zipfile handle\n",
        "    for root, dirs, files in os.walk(path):\n",
        "        for file in files:\n",
        "            ziph.write(os.path.join(root, file), os.path.relpath(os.path.join(root, file), os.path.join(path, '..')))\n",
        "\n",
        "zipf = zipfile.ZipFile('training_data.zip', 'w', zipfile.ZIP_DEFLATED)\n",
        "zipdir('data_training', zipf)\n",
        "\n",
        "zipf.close()"
      ],
      "execution_count": null,
      "outputs": []
    },
    {
      "cell_type": "code",
      "metadata": {
        "id": "3YPFAAcyiYCF"
      },
      "source": [
        "zipf_metrics = zipfile.ZipFile('metrics_data.zip', 'w', zipfile.ZIP_DEFLATED)\n",
        "zipdir('data_metrics', zipf_metrics)\n",
        "\n",
        "zipf_metrics.close()"
      ],
      "execution_count": null,
      "outputs": []
    }
  ]
}